{
  "nbformat": 4,
  "nbformat_minor": 0,
  "metadata": {
    "colab": {
      "name": "grasshopper.ipynb",
      "version": "0.3.2",
      "provenance": [],
      "collapsed_sections": [],
      "include_colab_link": true
    },
    "kernelspec": {
      "name": "python3",
      "display_name": "Python 3"
    }
  },
  "cells": [
    {
      "cell_type": "markdown",
      "metadata": {
        "id": "view-in-github",
        "colab_type": "text"
      },
      "source": [
        "<a href=\"https://colab.research.google.com/github/SiouxsieAsylum/Grasshopper-PY/blob/master/grasshopper.ipynb\" target=\"_parent\"><img src=\"https://colab.research.google.com/assets/colab-badge.svg\" alt=\"Open In Colab\"/></a>"
      ]
    },
    {
      "cell_type": "code",
      "metadata": {
        "id": "0Kf-aenZ5qgb",
        "colab_type": "code",
        "outputId": "db6af366-8670-4e87-cd75-14a17c647d3d",
        "colab": {
          "base_uri": "https://localhost:8080/",
          "height": 34
        }
      },
      "source": [
        "# eight peices\n",
        "# one free space\n",
        "# what peice it is dictates which way it can jump\n",
        "# cell object - knows whether it's occupied, what's in it\n",
        "# tokens occupy cells\n",
        "# tokens know what type they are\n",
        "# game knows whose turn it is\n",
        "# -|-|-|- cells show their index in the display\n",
        "# game tells you whose turn, player chooses source token index and target cell index\n",
        "# game keeps track of turns\n",
        "# there has to be a win condition (all tokens are on the other side?)\n",
        "# there has to be a lose condition (certain amount of turns?)\n",
        "# game board is going to be array of cells, join the string and check if it matches winning condition\n",
        "\n"
      ],
      "execution_count": 0,
      "outputs": [
        {
          "output_type": "stream",
          "text": [
            "hello\n"
          ],
          "name": "stdout"
        }
      ]
    },
    {
      "cell_type": "code",
      "metadata": {
        "id": "6Zylb1mL6I0k",
        "colab_type": "code",
        "outputId": "7f4c9cde-a8af-48a9-d781-c3d79ba5dd31",
        "colab": {
          "base_uri": "https://localhost:8080/",
          "height": 521
        }
      },
      "source": [
        "import sys\n",
        "\n",
        "class GrasshopperGame:\n",
        "  \"\"\"The logic of a game of grasshopper\"\"\"\n",
        "  \n",
        "  def __init__(self, turnCap):\n",
        "    self.board = [\"L\",\"L\",\"L\",\"L\",\" \",\"R\",\"R\",\"R\",\"R\"]\n",
        "    self.turnCap = turnCap\n",
        "    self.turnCounter = 0;\n",
        "    self.winning_condition = \"RRRR LLLL\"\n",
        "    \n",
        " ################ gameplay \n",
        "\n",
        "  def start(self):\n",
        "    print(\"Let's play!\")\n",
        "    self.playermove()\n",
        "\n",
        "  def playermove(self):\n",
        "    sourcePOS = input('position of the peice you want to move:')\n",
        "    targetPOS = input('position to move it to: ')\n",
        "    \n",
        "    sourcePOS = int(sourcePOS)\n",
        "    targetPOS = int(targetPOS)\n",
        "    \n",
        "    if self.evaluateMove(sourcePOS,targetPOS):\n",
        "      self.move(sourcePOS,targetPOS)\n",
        "      self.evaluateWin()\n",
        "      self.incrementTurn()\n",
        "\n",
        "    else:\n",
        "      self.incrementTurn()\n",
        "      self.playermove()\n",
        "\n",
        "\n",
        "  def move(self, sourcePOS, targetPOS):\n",
        "    sourceToken = self.board[sourcePOS];\n",
        "    targetToken = self.board[targetPOS]\n",
        "    self.board[targetPOS] = sourceToken\n",
        "    self.board[sourcePOS] = targetToken\n",
        "    print(self.board)\n",
        "    #self.evaluateWin()\n",
        "    \n",
        "  def reset(self):\n",
        "    self.board = [\"L\",\"L\",\"L\",\"L\",\" \",\"R\",\"R\",\"R\",\"R\"]\n",
        "    self.turnCounter = 0;\n",
        "    sys.exit()\n",
        "    \n",
        "  ############### validity checks\n",
        "    \n",
        "  def evaluateWin(self):\n",
        "    possible_win = ''.join(self.board);\n",
        "    if possible_win == self.winning_condition:\n",
        "        print('you win!')\n",
        "        self.reset()\n",
        "    else: \n",
        "        self.playermove();\n",
        "        \n",
        "  def evaluateMove(self, sourcePOS, targetPOS):\n",
        "    #assuming target cell is an class with an index property and a token property\n",
        "    sourcePOS = int(sourcePOS)\n",
        "    targetPOS = int(targetPOS)\n",
        "    \n",
        "    if self.board[targetPOS] == \" \" and abs(targetPOS - sourcePOS) <= 2:\n",
        "      self.move(sourcePOS, targetPOS)\n",
        "    else:\n",
        "      print('Invalid Move');\n",
        "      self.playermove()\n",
        "    \n",
        "  \n",
        "  def incrementTurn(self):\n",
        "    self.turnCounter += 1\n",
        "    print('You have played {} out of {} moves'.format(self.turnCounter, self.turnCap))\n",
        "    if self.turnCounter == self.turnCap:\n",
        "      print(\"You've taken all your turns, game over\")\n",
        "      self.reset()\n",
        "    \n",
        "\n",
        "    \n",
        "game = GrasshopperGame(5)\n",
        "game.start()\n"
      ],
      "execution_count": 34,
      "outputs": [
        {
          "output_type": "stream",
          "text": [
            "Let's play!\n",
            "position of the peice you want to move:3\n",
            "position to move it to: 4\n",
            "['L', 'L', 'L', ' ', 'L', 'R', 'R', 'R', 'R']\n",
            "You have played 1 out of 5 moves\n",
            "position of the peice you want to move:2\n",
            "position to move it to: 3\n",
            "['L', 'L', ' ', 'L', 'L', 'R', 'R', 'R', 'R']\n",
            "You have played 2 out of 5 moves\n",
            "position of the peice you want to move:1\n",
            "position to move it to: 2\n",
            "['L', ' ', 'L', 'L', 'L', 'R', 'R', 'R', 'R']\n",
            "You have played 3 out of 5 moves\n",
            "position of the peice you want to move:0\n",
            "position to move it to: 1\n",
            "[' ', 'L', 'L', 'L', 'L', 'R', 'R', 'R', 'R']\n",
            "You have played 4 out of 5 moves\n",
            "position of the peice you want to move:1\n",
            "position to move it to: 0\n",
            "['L', ' ', 'L', 'L', 'L', 'R', 'R', 'R', 'R']\n",
            "You have played 5 out of 5 moves\n",
            "You've taken all your turns, game over\n"
          ],
          "name": "stdout"
        },
        {
          "output_type": "error",
          "ename": "SystemExit",
          "evalue": "ignored",
          "traceback": [
            "An exception has occurred, use %tb to see the full traceback.\n",
            "\u001b[0;31mSystemExit\u001b[0m\n"
          ]
        },
        {
          "output_type": "stream",
          "text": [
            "/usr/local/lib/python3.6/dist-packages/IPython/core/interactiveshell.py:2890: UserWarning: To exit: use 'exit', 'quit', or Ctrl-D.\n",
            "  warn(\"To exit: use 'exit', 'quit', or Ctrl-D.\", stacklevel=1)\n"
          ],
          "name": "stderr"
        }
      ]
    },
    {
      "cell_type": "code",
      "metadata": {
        "id": "tsMk8VIr5smf",
        "colab_type": "code",
        "colab": {}
      },
      "source": [
        "#import cell\n",
        "#import token\n",
        "class GrasshopperGame(object):\n",
        "  \"\"\"The logic of a game of grasshopper\"\"\"\n",
        "\n",
        "  def __init__(self):\n",
        "    self.board = ['L','L','L','L','','R','R','R','R']\n",
        "    self.start_condition=\"LLLL RRRR\"\n",
        "    self.winning_condition = \"RRRR LLLL\"\n",
        "\n",
        "\n",
        " ################ gameplay\n",
        "\n",
        "  # def start():\n",
        "  #   print(\"Let's play!\")\n",
        "  #   playermove()\n",
        "\n",
        "\n",
        "\n",
        "  def move(self, sourcePOS, targetPOS):\n",
        "    self.cells[endpos] = self.cells[startpos]\n",
        "    self.cells[startpos]=''\n",
        "    self.board[endpos] = self.board[startpos]\n",
        "    self.board[startpos] = endpos\n",
        "    print(self.board)\n",
        "    print(self.cells)\n",
        "    self.evaluateWin()\n",
        "\n",
        "  ############### validity checks\n",
        "\n",
        "  def evaluateWin(self):\n",
        "    possible_win = ''.join(self.board);\n",
        "    if possible_win == self.winning_condition:\n",
        "        print('you win!')\n",
        "    else:\n",
        "        self.playermove();\n",
        "\n",
        "  def evaluateMove(self, sourcePOS, targetPOS):\n",
        "    #assuming target cell is an class with an index property and a token property\n",
        "\n",
        "    if self.board[targetPOS] == \" \" and abs(targetPOS - sourcePOS) == 2:\n",
        "      move(sourcePOS, targetPOS)\n",
        "    else:\n",
        "      print('Invalid Move');\n",
        "      self.playermove()\n",
        "\n",
        "\n",
        "  def playermove(self):\n",
        "\n",
        "    i = input('position of the peice you want to move:')\n",
        "    j = input('position to move it to: ')\n",
        "    self.evaluateMove(i,j)\n",
        "\n",
        "\n",
        "\n",
        "\n",
        "\n",
        "\n",
        "\n",
        "\n",
        "\n",
        "\n",
        "def playgame():\n",
        "    turncap = input('max number of turns: ')\n",
        "\n",
        "    g = GrasshopperGame()\n",
        "\n",
        "    while i > turncap:\n",
        "\n",
        "        g.playermove()\n",
        "\n",
        "\n",
        "        turnCounter += 1\n",
        "        print('You have played {} out of {} moves'.format(i,turnCap))\n",
        "\n",
        "\n",
        "playgame()\n",
        "\n",
        "\n"
      ],
      "execution_count": 0,
      "outputs": []
    },
    {
      "cell_type": "code",
      "metadata": {
        "id": "WS1t8c6mFp45",
        "colab_type": "code",
        "colab": {}
      },
      "source": [
        ""
      ],
      "execution_count": 0,
      "outputs": []
    }
  ]
}